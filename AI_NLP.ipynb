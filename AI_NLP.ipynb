{
  "nbformat": 4,
  "nbformat_minor": 0,
  "metadata": {
    "colab": {
      "name": "AI_NLP.ipynb",
      "provenance": [],
      "collapsed_sections": [],
      "authorship_tag": "ABX9TyOPzorOUI2csC8Pw+Vt1YZS",
      "include_colab_link": true
    },
    "kernelspec": {
      "name": "python3",
      "display_name": "Python 3"
    }
  },
  "cells": [
    {
      "cell_type": "markdown",
      "metadata": {
        "id": "view-in-github",
        "colab_type": "text"
      },
      "source": [
        "<a href=\"https://colab.research.google.com/github/Madhavtib/NLP/blob/main/AI_NLP.ipynb\" target=\"_parent\"><img src=\"https://colab.research.google.com/assets/colab-badge.svg\" alt=\"Open In Colab\"/></a>"
      ]
    },
    {
      "cell_type": "code",
      "metadata": {
        "id": "zbidTiY3u-R4"
      },
      "source": [
        "import pandas as pd\n",
        "import numpy as np\n",
        "import matplotlib.pyplot as plt\n",
        "import seaborn as sns"
      ],
      "execution_count": null,
      "outputs": []
    },
    {
      "cell_type": "code",
      "metadata": {
        "id": "iV8Y0RXAvJdk",
        "colab": {
          "base_uri": "https://localhost:8080/"
        },
        "outputId": "36765cde-f7f9-46e1-bf31-4421df1ba6d8"
      },
      "source": [
        "df=pd.read_csv(\"https://raw.githubusercontent.com/laxmimerit/twitter-data/master/twitter30k_cleaned.csv\")\n",
        "df.info()"
      ],
      "execution_count": null,
      "outputs": [
        {
          "output_type": "stream",
          "text": [
            "<class 'pandas.core.frame.DataFrame'>\n",
            "RangeIndex: 30000 entries, 0 to 29999\n",
            "Data columns (total 2 columns):\n",
            " #   Column     Non-Null Count  Dtype \n",
            "---  ------     --------------  ----- \n",
            " 0   twitts     30000 non-null  object\n",
            " 1   sentiment  30000 non-null  int64 \n",
            "dtypes: int64(1), object(1)\n",
            "memory usage: 468.9+ KB\n"
          ],
          "name": "stdout"
        }
      ]
    },
    {
      "cell_type": "code",
      "metadata": {
        "id": "Rsumr-fiv6KW",
        "colab": {
          "base_uri": "https://localhost:8080/",
          "height": 279
        },
        "outputId": "3657e12a-c8f0-4d28-a82c-cf3cd2b0ad5a"
      },
      "source": [
        "positive=df.loc[df['sentiment']==1].count()\n",
        "negative=df.loc[df['sentiment']==1].count()\n",
        "df1=pd.DataFrame([positive,negative])\n",
        "df1.plot.bar() #equal number of positive and negative sentiments"
      ],
      "execution_count": null,
      "outputs": [
        {
          "output_type": "execute_result",
          "data": {
            "text/plain": [
              "<matplotlib.axes._subplots.AxesSubplot at 0x7fb4d1986160>"
            ]
          },
          "metadata": {
            "tags": []
          },
          "execution_count": 57
        },
        {
          "output_type": "display_data",
          "data": {
            "image/png": "[encoded data removed]",
            "text/plain": [
              "<Figure size 432x288 with 1 Axes>"
            ]
          },
          "metadata": {
            "tags": [],
            "needs_background": "light"
          }
        }
      ]
    },
    {
      "cell_type": "code",
      "metadata": {
        "id": "aJ6_rv6-wsY7"
      },
      "source": [
        "from sklearn.feature_extraction.text import TfidfVectorizer\n",
        "from sklearn.model_selection import train_test_split\n",
        "from sklearn.svm import LinearSVC\n",
        "from sklearn.metrics import classification_report"
      ],
      "execution_count": null,
      "outputs": []
    },
    {
      "cell_type": "code",
      "metadata": {
        "id": "8Y6B7ycdxa8a"
      },
      "source": [
        "x=df['twitts']\n",
        "y=df['sentiment']\n",
        "tfidf=TfidfVectorizer(max_features=10000,ngram_range=(1,2)) #using term frequency method for analysis and tokenization\n",
        "x=tfidf.fit_transform(x)"
      ],
      "execution_count": null,
      "outputs": []
    },
    {
      "cell_type": "code",
      "metadata": {
        "id": "HmH4rnrOyEgI"
      },
      "source": [
        "x_train,x_test,y_train,y_test=train_test_split(x,y,test_size=0.2)"
      ],
      "execution_count": null,
      "outputs": []
    },
    {
      "cell_type": "code",
      "metadata": {
        "id": "fniMC2oE5ZMh",
        "colab": {
          "base_uri": "https://localhost:8080/"
        },
        "outputId": "87b5f024-369d-44c3-c0c7-0016af7bb488"
      },
      "source": [
        "x_train.shape,x_test.shape"
      ],
      "execution_count": null,
      "outputs": [
        {
          "output_type": "execute_result",
          "data": {
            "text/plain": [
              "((24000, 10000), (6000, 10000))"
            ]
          },
          "metadata": {
            "tags": []
          },
          "execution_count": 47
        }
      ]
    },
    {
      "cell_type": "code",
      "metadata": {
        "id": "1jfPvkHD5b5D",
        "colab": {
          "base_uri": "https://localhost:8080/"
        },
        "outputId": "f46a5dba-bd30-4208-ef3c-7941b9813693"
      },
      "source": [
        "y_train.shape,y_test.shape"
      ],
      "execution_count": null,
      "outputs": [
        {
          "output_type": "execute_result",
          "data": {
            "text/plain": [
              "((24000,), (6000,))"
            ]
          },
          "metadata": {
            "tags": []
          },
          "execution_count": 48
        }
      ]
    },
    {
      "cell_type": "code",
      "metadata": {
        "id": "0PG70buY51yD",
        "colab": {
          "base_uri": "https://localhost:8080/"
        },
        "outputId": "80dd8f72-636a-4d8a-9475-2a07ecb91ccc"
      },
      "source": [
        "model=LinearSVC()\n",
        "model.fit(x_train,y_train)"
      ],
      "execution_count": null,
      "outputs": [
        {
          "output_type": "execute_result",
          "data": {
            "text/plain": [
              "LinearSVC(C=1.0, class_weight=None, dual=True, fit_intercept=True,\n",
              "          intercept_scaling=1, loss='squared_hinge', max_iter=1000,\n",
              "          multi_class='ovr', penalty='l2', random_state=None, tol=0.0001,\n",
              "          verbose=0)"
            ]
          },
          "metadata": {
            "tags": []
          },
          "execution_count": 49
        }
      ]
    },
    {
      "cell_type": "code",
      "metadata": {
        "id": "0XssH3cD6HqZ"
      },
      "source": [
        "y_pred=model.predict(x_test) "
      ],
      "execution_count": null,
      "outputs": []
    },
    {
      "cell_type": "code",
      "metadata": {
        "id": "zHuwcxeR6P4c",
        "colab": {
          "base_uri": "https://localhost:8080/"
        },
        "outputId": "b31a5dce-91d8-4c18-f9ee-39b23a3bc270"
      },
      "source": [
        "print(classification_report(y_test,y_pred))"
      ],
      "execution_count": null,
      "outputs": [
        {
          "output_type": "stream",
          "text": [
            "              precision    recall  f1-score   support\n",
            "\n",
            "           0       0.77      0.74      0.75      3016\n",
            "           1       0.74      0.77      0.76      2984\n",
            "\n",
            "    accuracy                           0.76      6000\n",
            "   macro avg       0.76      0.76      0.76      6000\n",
            "weighted avg       0.76      0.76      0.76      6000\n",
            "\n"
          ],
          "name": "stdout"
        }
      ]
    },
    {
      "cell_type": "code",
      "metadata": {
        "id": "2L8uzpdL6VHn",
        "colab": {
          "base_uri": "https://localhost:8080/"
        },
        "outputId": "88c513fc-c35a-416b-8747-bbad87bd122e"
      },
      "source": [
        "pred=input()\n",
        "vec=tfidf.transform([pred])"
      ],
      "execution_count": null,
      "outputs": [
        {
          "output_type": "stream",
          "text": [
            "I am doing great\n"
          ],
          "name": "stdout"
        }
      ]
    },
    {
      "cell_type": "code",
      "metadata": {
        "id": "2gXSpdXD6oZN",
        "colab": {
          "base_uri": "https://localhost:8080/"
        },
        "outputId": "06b1f833-1fbd-4fdd-b830-64a4eea4388f"
      },
      "source": [
        "if model.predict(vec)[0]==1:\n",
        "  print(\"Positive Sentiment\")\n",
        "else:\n",
        "  print(\"Negative Sentiment\")"
      ],
      "execution_count": null,
      "outputs": [
        {
          "output_type": "stream",
          "text": [
            "Positive Sentiment\n"
          ],
          "name": "stdout"
        }
      ]
    },
    {
      "cell_type": "code",
      "metadata": {
        "id": "77Dp9ptf63zY"
      },
      "source": [
        ""
      ],
      "execution_count": null,
      "outputs": []
    }
  ]
}